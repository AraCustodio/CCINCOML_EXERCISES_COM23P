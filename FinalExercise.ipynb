{
  "cells": [
    {
      "cell_type": "markdown",
      "metadata": {
        "id": "view-in-github",
        "colab_type": "text"
      },
      "source": [
        "<a href=\"https://colab.research.google.com/github/AraCustodio/CCINCOML_EXERCISES_COM23P/blob/main/FinalExercise.ipynb\" target=\"_parent\"><img src=\"https://colab.research.google.com/assets/colab-badge.svg\" alt=\"Open In Colab\"/></a>"
      ]
    },
    {
      "cell_type": "markdown",
      "metadata": {
        "id": "1lyup4WJ0U88"
      },
      "source": [
        "# Final Exercise 🌹\n",
        "\n",
        "Please follow the instructions!\n",
        "\n",
        "<img src=\"https://i.pinimg.com/originals/80/db/e7/80dbe7a37ca3ea65ecac8dace1b599cc.gif\"/>"
      ]
    },
    {
      "cell_type": "markdown",
      "metadata": {
        "id": "TNpD9hmk4_N-"
      },
      "source": [
        "1. Create a list called `myname` that contains the characters of your first name"
      ]
    },
    {
      "cell_type": "code",
      "execution_count": 5,
      "metadata": {
        "colab": {
          "base_uri": "https://localhost:8080/"
        },
        "id": "bpXg-iQt4-sQ",
        "outputId": "669edff7-ae3b-4523-f25f-92b951397a76"
      },
      "outputs": [
        {
          "output_type": "stream",
          "name": "stdout",
          "text": [
            "['A', 'r', 'a', ' ', 'F', 'r', 'a', 'n', 'c', 'h', 'e', 's', 'c', 'a']\n"
          ]
        }
      ],
      "source": [
        "myname=list('Ara Franchesca')\n",
        "print(myname)"
      ]
    },
    {
      "cell_type": "markdown",
      "metadata": {
        "id": "iorlqXkq5FgY"
      },
      "source": [
        "2. Create a list called `mynumber` that contains all the numbers of your student number\n",
        "\n",
        "> Indented block::\n",
        "\n"
      ]
    },
    {
      "cell_type": "code",
      "execution_count": 8,
      "metadata": {
        "id": "JciPeaYr49B7",
        "colab": {
          "base_uri": "https://localhost:8080/"
        },
        "outputId": "66fbbf70-12bb-4d06-ca33-fe830c8b9165"
      },
      "outputs": [
        {
          "output_type": "stream",
          "name": "stdout",
          "text": [
            "[2, 0, 2, 3, 1, 0, 4, 1, 6, 1]\n"
          ]
        }
      ],
      "source": [
        "mynumber = [int(digit) for digit in '2023-104161' if digit.isdigit()]\n",
        "print(mynumber)"
      ]
    },
    {
      "cell_type": "markdown",
      "metadata": {
        "id": "yQ2wZKD-0X7_"
      },
      "source": [
        "3. Write a python function named `geteven()` that will:\n",
        "\n",
        "- Accept a list of your student number\n",
        "- Return a list with only even numbers\n",
        "\n",
        "-------------------------------------\n",
        "\n",
        "Example:\n",
        "\n",
        "mynumber = [2,0,2,3,1,2,3,4,5,6]\n",
        "\n",
        "geteven(mynumber)\n",
        "\n",
        "Output should be:\n",
        "\n",
        "[2,0,2,2,4,6]"
      ]
    },
    {
      "cell_type": "code",
      "execution_count": 9,
      "metadata": {
        "id": "9HUAAC9h0Tu6",
        "colab": {
          "base_uri": "https://localhost:8080/"
        },
        "outputId": "1739b8d0-211a-4705-a9ff-4d1231cdd28a"
      },
      "outputs": [
        {
          "output_type": "stream",
          "name": "stdout",
          "text": [
            "[2, 0, 2, 0, 4, 6]\n"
          ]
        }
      ],
      "source": [
        "def geteven(number_list):\n",
        "    even_numbers = [num for num in number_list if num % 2 == 0]\n",
        "    return even_numbers\n",
        "mynumber = [2, 0, 2, 3, 1, 0, 4, 1, 6, 1]\n",
        "result = geteven(mynumber)\n",
        "\n",
        "print(result)"
      ]
    },
    {
      "cell_type": "markdown",
      "metadata": {
        "id": "51HBYD8V0agR"
      },
      "source": [
        "4. Write a python function named `reverseName()` that will:\n",
        "\n",
        "- Accept a list of your name\n",
        "- Return a list of your name in reverse order\n",
        "\n",
        "-------------------------------------\n",
        "\n",
        "Example:\n",
        "\n",
        "myname = ['E', 'L', 'I', 'Z', 'E', 'R']\n",
        "\n",
        "reverseName(myname)\n",
        "\n",
        "Output should be:\n",
        "\n",
        "['R', 'E', 'Z', 'I', 'L', 'E']"
      ]
    },
    {
      "cell_type": "code",
      "execution_count": 10,
      "metadata": {
        "id": "cwtaNJcc0a1o",
        "colab": {
          "base_uri": "https://localhost:8080/"
        },
        "outputId": "0f8e36e0-102b-4cd6-f201-9c677bbb9f6a"
      },
      "outputs": [
        {
          "output_type": "stream",
          "name": "stdout",
          "text": [
            "['a', 'c', 's', 'e', 'h', 'c', 'n', 'a', 'r', 'F', ' ', 'a', 'r', 'A']\n"
          ]
        }
      ],
      "source": [
        "def reverseName(name_list):\n",
        "    reversed_name = list(reversed(name_list))\n",
        "    return reversed_name\n",
        "\n",
        "# Using your name\n",
        "myname = list('Ara Franchesca')\n",
        "result = reverseName(myname)\n",
        "\n",
        "print(result)"
      ]
    },
    {
      "cell_type": "markdown",
      "metadata": {
        "id": "z98DkSZj0bKE"
      },
      "source": [
        "5. Write a python function named `countVowel()` that will:\n",
        "\n",
        "- Accept a list of your name\n",
        "- Return the number of vowels of your name in the list\n",
        "\n",
        "-------------------------------------\n",
        "\n",
        "Example:\n",
        "\n",
        "myname = ['E', 'L', 'I', 'Z', 'E', 'R']\n",
        "\n",
        "countVowel(myname)\n",
        "\n",
        "Output should be:\n",
        "\n",
        "3"
      ]
    },
    {
      "cell_type": "code",
      "execution_count": 12,
      "metadata": {
        "id": "djNZGq0P0bft",
        "colab": {
          "base_uri": "https://localhost:8080/"
        },
        "outputId": "13fe10de-1b26-491c-b0dc-069fec9095cf"
      },
      "outputs": [
        {
          "output_type": "stream",
          "name": "stdout",
          "text": [
            "5\n"
          ]
        }
      ],
      "source": [
        "def countVowel(name_list):\n",
        "    vowels = ['A', 'a','e']\n",
        "    vowel_count = sum(1 for char in name_list if char in vowels)\n",
        "    return vowel_count\n",
        "\n",
        "# Using your name\n",
        "myname = list('Ara Franchesca')\n",
        "result = countVowel(myname)\n",
        "\n",
        "print(result)"
      ]
    },
    {
      "cell_type": "markdown",
      "metadata": {
        "id": "7YuM6TiO8Tsj"
      },
      "source": [
        "## Farewell note\n",
        "\n",
        "It has been a pleasure to teach you this term even for a short period of time.\n",
        "\n",
        "I know that not all people like computer programming but please give it more time for you to find a place in your heart ❤️\n",
        "\n",
        "From my experience, people tend to learn skills when they need it and not when they want to. It is very hard to learn any skill if you do not have any use for it.\n",
        "\n",
        "The challenge for us educators is to show the next generation that programming is a very important skill and that the world needs people like you.\n",
        "\n",
        "Programming is a very fulfilling profession because you can solve the world's problems through your own creativity and passion.\n",
        "\n",
        "I hope that you can find your own purpose in life through programming and make our world a better place 🌎\n",
        "\n",
        "Your teacher,\n",
        "\n",
        "Elizer Ponio Jr."
      ]
    }
  ],
  "metadata": {
    "colab": {
      "provenance": [],
      "include_colab_link": true
    },
    "kernelspec": {
      "display_name": "Python 3",
      "name": "python3"
    },
    "language_info": {
      "name": "python"
    }
  },
  "nbformat": 4,
  "nbformat_minor": 0
}